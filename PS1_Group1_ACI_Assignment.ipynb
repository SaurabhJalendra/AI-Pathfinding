{
 "cells": [
  {
   "cell_type": "markdown",
   "metadata": {
    "id": "MzZ4dJQYF7sH"
   },
   "source": [
    "# Artificial and Computational Intelligence Assignment 1"
   ]
  },
  {
   "cell_type": "markdown",
   "metadata": {
    "id": "Fxb1aE9zF7sK"
   },
   "source": [
    "## Problem solving by Uninformed & Informed Search"
   ]
  },
  {
   "cell_type": "markdown",
   "metadata": {
    "id": "h35jIBbCF7sK"
   },
   "source": [
    "List only the BITS (Name) of active contributors in this assignment:\n",
    "\n",
    "1. Name: Reddy Balaji .C (BITS ID: 2023AC05862); Email: 2023ac05862@wilp.bits-pilani.ac.in\n",
    "\n",
    "    Contribution- 100%\n",
    "\n",
    "4. Name: Saurabh Jalendra (BITS ID: 2023AC05912); Email: 2023ac05912@wilp.bits-pilani.ac.in\n",
    "\n",
    "   Contribution- 100%\n",
    "\n",
    "6. Name: Tushar Shandilya (BITS ID: 2023AC05573); Email: 2023ac05573@wilp.bits-pilani.ac.in\n",
    "\n",
    "   Contribution- 100%\n",
    "\n",
    "8. Name:  Bandana Kumari (BITS ID: 2023AC05879); Email: 2023ac05879@wilp.bits-pilani.ac.in\n",
    "\n",
    "   Contribution- 100%\n",
    "\n",
    "10. Name: Monica Malik (BITS ID: 2023AC05875); Email: 2023ac05875@wilp.bits-pilani.ac.in\n",
    "\n",
    "    Contribution- 100%"
   ]
  },
  {
   "cell_type": "markdown",
   "metadata": {
    "id": "pt5ygv_zF7sL"
   },
   "source": [
    "Things to follow\n",
    "1.\tUse appropriate data structures to represent the graph and the path using python libraries\n",
    "2.\tProvide proper documentation\n",
    "3.\tFind the path and print it"
   ]
  },
  {
   "cell_type": "markdown",
   "metadata": {
    "id": "wZfop5ElF7sL"
   },
   "source": [
    "Coding begins here"
   ]
  },
  {
   "cell_type": "markdown",
   "metadata": {
    "id": "IL0QDMy3F7sL"
   },
   "source": [
    "### 1.\tDefine the environment in the following block"
   ]
  },
  {
   "cell_type": "markdown",
   "metadata": {
    "id": "RYwJPNLIF7sM"
   },
   "source": [
    "# List the PEAS decription of the problem here in this markdown block:\n",
    "\n",
    "High level PEAS is shared here and the detailing of each of the line item is in the supporting word document shared.\n",
    "\n",
    "1.\tPerformance Measure:\n",
    "\n",
    "    The performance of the GPS Navigation Agent is evaluated based on the following criteria:\n",
    "\n",
    "        - Safely Reaching the Destination\n",
    "        - Shortest Path \n",
    "        - Quickest Route \n",
    "        - Safest Path\n",
    "        - Minimized Cost\n",
    "\n",
    "2.\tEnvironment:\n",
    "\n",
    "The environment in which the GPS Navigation Agent operates is a structured grid-based representation of a city including the following elements:\n",
    "\n",
    "        - Grid-Based City Map\n",
    "        - Buildings\n",
    "        - Blocked Paths\n",
    "        - Roadblocks\n",
    "        - Traffic Conditions\n",
    "\n",
    "3.\tActuator:\n",
    "\n",
    "The actuator defines the actions that the GPS Navigation Agent can perform within the environment:\n",
    "\n",
    "        - Movement Directions\n",
    "        - Path Execution\n",
    "\n",
    "4.\tSensor:\n",
    "\n",
    "The sensor system provides the GPS Navigation Agent with real-time information about its environment allowing it to make informed decisions:\n",
    "\n",
    "        - City Map Information\n",
    "        - Environmental Sensors\n",
    "        - Proximity Sensors\n",
    "        - Real-Time Grid Status\n"
   ]
  },
  {
   "cell_type": "markdown",
   "metadata": {
    "id": "XJ3cHp1IF7sM"
   },
   "source": [
    "Design the agent as PSA Agent(Problem Solving Agent)\n",
    "Clear Initial data structures to define the graph and variable declarations is expected\n",
    "IMPORTATANT: Write distinct code block as below"
   ]
  },
  {
   "cell_type": "code",
   "execution_count": 1,
   "metadata": {
    "id": "osp61RsLF7sN"
   },
   "outputs": [
    {
     "name": "stdout",
     "output_type": "stream",
     "text": [
      "Initial State:\n",
      "Start: (0, 0), Goal: (5, 5)\n"
     ]
    }
   ],
   "source": [
    "#Code Block : Set Initial State (Must handle dynamic inputs)\n",
    "def set_initial_state():\n",
    "    start = (0, 0)  # Coordinates of 'S' (starting point)\n",
    "    goal = (5, 5)   # Coordinates of 'G' (goal point)\n",
    "    return start, goal\n",
    "\n",
    "start, goal = set_initial_state()\n",
    "print(\"Initial State:\")\n",
    "print(f\"Start: {start}, Goal: {goal}\")\n"
   ]
  },
  {
   "cell_type": "code",
   "execution_count": 2,
   "metadata": {
    "id": "XODwoWZ0F7sO"
   },
   "outputs": [
    {
     "name": "stdout",
     "output_type": "stream",
     "text": [
      "Grid Definition:\n",
      "['S', '.', 'X', 'X', '.', '.']\n",
      "['B', '.', 'X', '.', '.', '.']\n",
      "['.', '.', '.', '.', 'X', '.']\n",
      "['B', '.', 'X', '.', '.', 'B']\n",
      "['.', '.', '.', '.', 'B', '.']\n",
      "['.', 'B', '.', 'X', '.', 'G']\n"
     ]
    }
   ],
   "source": [
    "# Code Block : Set the matrix for transition & cost (as relevant for the given problem)\n",
    "# Define the grid representing the city layout\n",
    "grid = [\n",
    "    ['S', '.', 'X', 'X', '.', '.'],\n",
    "    ['B', '.', 'X', '.', '.', '.'],\n",
    "    ['.', '.', '.', '.', 'X', '.'],\n",
    "    ['B', '.', 'X', '.', '.', 'B'],\n",
    "    ['.', '.', '.', '.', 'B', '.'],\n",
    "    ['.', 'B', '.', 'X', '.', 'G']\n",
    "]\n",
    "# Define costs for adjacency to buildings and roadblocks\n",
    "adjacent_building_cost = -5   # Points deducted for adjacent building\n",
    "adjacent_roadblock_cost = +3  # Points added for adjacent road block\n",
    "diagonal_movement_penalty = 3  # Cost for diagonal movement\n",
    "\n",
    "print(\"Grid Definition:\")\n",
    "for row in grid:\n",
    "    print(row)\n"
   ]
  },
  {
   "cell_type": "code",
   "execution_count": 3,
   "metadata": {
    "id": "ro24Gaj7F7sO"
   },
   "outputs": [],
   "source": [
    "# Code Block : Write function to design the Transition Model/Successor function.\n",
    "# Ideally this would be called while search algorithms are implemented\n",
    "# Function to calculate additional cost for adjacency\n",
    "def calculate_adjacent_cost(x, y):\n",
    "    adjacent_cost = 0\n",
    "    directions = [(-1, 0), (1, 0), (0, -1), (0, 1)]  # Up, Down, Left, Right\n",
    "    for dx, dy in directions:\n",
    "        new_x, new_y = x + dx, y + dy\n",
    "        if 0 <= new_x < len(grid) and 0 <= new_y < len(grid[0]):\n",
    "            if grid[new_x][new_y] == 'B':\n",
    "                adjacent_cost += adjacent_building_cost\n",
    "            elif grid[new_x][new_y] == 'X':\n",
    "                adjacent_cost += adjacent_roadblock_cost\n",
    "    return adjacent_cost\n",
    "\n",
    "# Function to get valid neighbors (successor function)\n",
    "def get_neighbors(position, visited):\n",
    "    x, y = position\n",
    "    neighbors = []\n",
    "    directions = [(-1, 0), (1, 0), (0, -1), (0, 1)]  # Up, Down, Left, Right\n",
    "\n",
    "    # Check for valid straight moves\n",
    "    for dx, dy in directions:\n",
    "        new_x, new_y = x + dx, y + dy\n",
    "        if (0 <= new_x < len(grid) and \n",
    "            0 <= new_y < len(grid[0]) and \n",
    "            grid[new_x][new_y] != 'X' and \n",
    "            grid[new_x][new_y] != 'B' and \n",
    "            (new_x, new_y) not in visited):\n",
    "            neighbors.append((new_x, new_y, 1 + calculate_adjacent_cost(new_x, new_y)))\n",
    "\n",
    "    # Check for diagonal moves if no valid straight moves are found\n",
    "    if not neighbors:\n",
    "        diagonal_directions = [(-1, -1), (-1, 1), (1, -1), (1, 1)]  # Diagonals\n",
    "        for dx, dy in diagonal_directions:\n",
    "            new_x, new_y = x + dx, y + dy\n",
    "            if (0 <= new_x < len(grid) and \n",
    "                0 <= new_y < len(grid[0]) and \n",
    "                grid[new_x][new_y] != 'X' and \n",
    "                grid[new_x][new_y] != 'B' and \n",
    "                (new_x, new_y) not in visited):\n",
    "                neighbors.append((new_x, new_y, diagonal_movement_penalty + calculate_adjacent_cost(new_x, new_y)))\n",
    "\n",
    "    return neighbors\n"
   ]
  },
  {
   "cell_type": "code",
   "execution_count": 4,
   "metadata": {
    "id": "HIVPhrRWF7sO"
   },
   "outputs": [],
   "source": [
    "# Code block : Write function to handle goal test (Must handle dynamic inputs). Ideally this would be called while search algorithms are implemented\n",
    "# Function to check if the current state is the goal state\n",
    "def is_goal(state, goal):\n",
    "    return state == goal\n"
   ]
  },
  {
   "cell_type": "markdown",
   "metadata": {
    "id": "Z4QwDeX5F7sO"
   },
   "source": [
    "### 2.\tDefinition of Algorithm 1 (Recursive Best First Search - RBFS)"
   ]
  },
  {
   "cell_type": "code",
   "execution_count": 5,
   "metadata": {
    "id": "zD_EPCHWF7sO"
   },
   "outputs": [],
   "source": [
    "#Code Block : Function for algorithm 1 implementation\n",
    "import time\n",
    "\n",
    "def heuristic(node, goal):\n",
    "    # Heuristic function calculating Manhattan distance to the goal\n",
    "    return abs(node[0] - goal[0]) + abs(node[1] - goal[1])\n",
    "def recursive_best_first_search(start, goal):\n",
    "    expanded_nodes = 0  # Counter for expanded nodes\n",
    "    visited = set()      # Set to track visited nodes\n",
    "\n",
    "    # A dictionary to keep track of costs to reach each node\n",
    "    cost_at_node = {start: 0}\n",
    "\n",
    "    def rbf_search(node, g, h):\n",
    "        nonlocal expanded_nodes\n",
    "        expanded_nodes += 1  # Increment expanded node count\n",
    "        visited.add(node)     # Mark the current node as visited\n",
    "        f = g + h  # Calculate total cost\n",
    "        if is_goal(node, goal):\n",
    "            return g, [node]  # If goal reached, return cost and path\n",
    "        \n",
    "        best = float('inf')  # Initialize best cost as infinity\n",
    "        best_path = []\n",
    "        for neighbor in get_neighbors(node, visited):\n",
    "            neighbor_pos, cost = neighbor[:2], neighbor[2]\n",
    "            g_next = g + cost  # Update cost to reach this neighbor\n",
    "            cost_at_node[neighbor_pos] = g_next  # Store cost to reach this neighbor\n",
    "            h_next = heuristic(neighbor_pos, goal)  # Heuristic for neighbor\n",
    "            result, path = rbf_search(neighbor_pos, g_next, h_next)  # Recursive call\n",
    "            if result < best:\n",
    "                best = result  # Update best cost\n",
    "                best_path = path  # Update best path\n",
    "\n",
    "        return best, [node] + best_path  # Return best cost and path\n",
    "\n",
    "    start_time = time.time()  # Start timing the search\n",
    "    total_cost, path = rbf_search(start, 0, heuristic(start, goal))  # Start recursive search\n",
    "    end_time = time.time()  # End timing\n",
    "\n",
    "    print(\"Algorithm 1 (Recursive Best First Search):\")\n",
    "    print(f\"Total Cost: {total_cost}, Expanded Nodes: {expanded_nodes}, Time: {end_time - start_time:.10} seconds\")\n",
    "    \n",
    "    print(\"Path with Costs and Manhattan Distances:\")\n",
    "    for node in path:\n",
    "        manhattan_distance = heuristic(node, goal)\n",
    "        cost = cost_at_node[node]  # Get the cost to reach this node\n",
    "        print(f\"Node: {node}, Cost: {cost}, Manhattan Distance: {manhattan_distance}\")\n",
    "\n",
    "    return total_cost, path, expanded_nodes, end_time - start_time\n"
   ]
  },
  {
   "cell_type": "markdown",
   "metadata": {
    "id": "KnbdDl6HF7sO"
   },
   "source": [
    "### 3.\tDefinition of Algorithm 2 (Uniform Cost Search-UCS)"
   ]
  },
  {
   "cell_type": "code",
   "execution_count": 6,
   "metadata": {
    "id": "3HYh7-eJF7sP"
   },
   "outputs": [],
   "source": [
    "# Code Block : Function for algorithm 2 implementation\n",
    "import heapq\n",
    "\n",
    "def uniform_cost_search(start, goal):\n",
    "    expanded_nodes = 0   # Counter for expanded nodes\n",
    "    visited = set()      # Set to track visited nodes\n",
    "    priority_queue = [(0, start)]     # Initialize priority queue with the starting node\n",
    "    came_from = {start: None}   # To reconstruct the path\n",
    "    cost_so_far = {start: 0}    # To track cost to reach each node\n",
    "\n",
    "    start_time = time.time()    # Start timing the search\n",
    "\n",
    "    while priority_queue:\n",
    "        current_cost, current_node = heapq.heappop(priority_queue)   # Get the node with lowest cost\n",
    "        expanded_nodes += 1   # Increment expanded node count\n",
    "        visited.add(current_node)   # Mark the current node as visited\n",
    "\n",
    "        if is_goal(current_node, goal):\n",
    "            break   # Stop if goal is reached\n",
    "\n",
    "        for neighbor in get_neighbors(current_node, visited):\n",
    "            neighbor_pos, cost = neighbor[:2], neighbor[2]\n",
    "            new_cost = current_cost + cost   # Calculate new cost\n",
    "            if neighbor_pos not in cost_so_far or new_cost < cost_so_far[neighbor_pos]:\n",
    "                cost_so_far[neighbor_pos] = new_cost\n",
    "                heapq.heappush(priority_queue, (new_cost, neighbor_pos))   # Add to priority queue\n",
    "                came_from[neighbor_pos] = current_node    # Track where we came from\n",
    "\n",
    "    end_time = time.time()   # End timing\n",
    "\n",
    "    # Reconstruct path\n",
    "    path = []\n",
    "    path_costs = []\n",
    "    current = goal   # Start from the goal\n",
    "    while current is not None:\n",
    "        path.append(current)   # Build the path backward\n",
    "        path_costs.append(cost_so_far[current])\n",
    "        current = came_from[current]\n",
    "    path.reverse()   # Reverse the path to correct order\n",
    "    path_costs.reverse()\n",
    "\n",
    "    print(\"Algorithm 2 (Uniform Cost Search):\")\n",
    "    print(f\"Total Cost: {cost_so_far[goal]}, Path: {list(zip(path, path_costs))}, Expanded Nodes: {expanded_nodes}, Time: {end_time - start_time:.10f} seconds\")\n",
    "    return cost_so_far[goal], path, path_costs, expanded_nodes, end_time - start_time\n"
   ]
  },
  {
   "cell_type": "markdown",
   "metadata": {
    "id": "LEV2XHccF7sP"
   },
   "source": [
    "### DYNAMIC INPUT"
   ]
  },
  {
   "cell_type": "markdown",
   "metadata": {
    "id": "CylYRo_DF7sP"
   },
   "source": [
    "\n",
    "IMPORTANT : Dynamic Input must be got in this section. Display the possible states to choose from:\n",
    "This is applicable for all the relevent problems as mentioned in the question."
   ]
  },
  {
   "cell_type": "code",
   "execution_count": 7,
   "metadata": {
    "id": "Q5t1Lc-wF7sP"
   },
   "outputs": [
    {
     "name": "stdout",
     "output_type": "stream",
     "text": [
      "Start: (0, 0), Goal: (5, 5)\n"
     ]
    }
   ],
   "source": [
    "#Code Block : Function & call to get inputs (start/end state)\n",
    "def get_input():\n",
    "    return start, goal\n",
    "\n",
    "start, goal = get_input()\n",
    "print(f\"Start: {start}, Goal: {goal}\")\n"
   ]
  },
  {
   "cell_type": "markdown",
   "metadata": {
    "id": "xsfOP81lF7sP"
   },
   "source": [
    "### 4.\tCalling the search algorithms\n",
    "(For bidirectional search in below sections first part can be used as per Hint provided. Under second section other combinations as per Hint or your choice of 2 algorithms can be called .As an analyst suggest suitable approximation in the comparitive analysis section)"
   ]
  },
  {
   "cell_type": "code",
   "execution_count": 8,
   "metadata": {
    "id": "Og5zI9thF7sP"
   },
   "outputs": [
    {
     "name": "stdout",
     "output_type": "stream",
     "text": [
      "Algorithm 1 (Recursive Best First Search):\n",
      "Total Cost: 17, Expanded Nodes: 29, Time: 0.0 seconds\n",
      "Path with Costs and Manhattan Distances:\n",
      "Node: (0, 0), Cost: 0, Manhattan Distance: 10\n",
      "Node: (0, 1), Cost: 4, Manhattan Distance: 9\n",
      "Node: (1, 1), Cost: 3, Manhattan Distance: 8\n",
      "Node: (2, 1), Cost: 4, Manhattan Distance: 7\n",
      "Node: (3, 1), Cost: 3, Manhattan Distance: 6\n",
      "Node: (4, 1), Cost: -1, Manhattan Distance: 5\n",
      "Node: (4, 2), Cost: 3, Manhattan Distance: 4\n",
      "Node: (5, 2), Cost: 2, Manhattan Distance: 3\n",
      "Node: (4, 3), Cost: 2, Manhattan Distance: 3\n",
      "Node: (3, 3), Cost: 7, Manhattan Distance: 4\n",
      "Node: (2, 3), Cost: 11, Manhattan Distance: 5\n",
      "Node: (1, 3), Cost: 18, Manhattan Distance: 6\n",
      "Node: (1, 4), Cost: 22, Manhattan Distance: 5\n",
      "Node: (0, 4), Cost: 26, Manhattan Distance: 6\n",
      "Node: (0, 5), Cost: 27, Manhattan Distance: 5\n",
      "Node: (1, 5), Cost: 23, Manhattan Distance: 4\n",
      "Node: (2, 5), Cost: 27, Manhattan Distance: 3\n",
      "Node: (3, 4), Cost: 1, Manhattan Distance: 3\n",
      "Node: (4, 5), Cost: 16, Manhattan Distance: 1\n",
      "Node: (5, 5), Cost: 17, Manhattan Distance: 0\n",
      "\n",
      "Final Results for Algorithm 1:\n",
      "Total Cost: 17, Path: [(0, 0), (0, 1), (1, 1), (2, 1), (3, 1), (4, 1), (4, 2), (5, 2), (4, 3), (3, 3), (2, 3), (1, 3), (1, 4), (0, 4), (0, 5), (1, 5), (2, 5), (3, 4), (4, 5), (5, 5)], Expanded Nodes: 29, Time: 0.0000000000 seconds\n"
     ]
    }
   ],
   "source": [
    "#Invoke algorithm 1 (Should Print the solution, path, cost etc., (As mentioned in the problem))\n",
    "cost_1, path_1, expanded_nodes_1, time_1 = recursive_best_first_search(start, goal)\n",
    "print(\"\\nFinal Results for Algorithm 1:\")\n",
    "print(f\"Total Cost: {cost_1}, Path: {path_1}, Expanded Nodes: {expanded_nodes_1}, Time: {time_1:.10f} seconds\")\n"
   ]
  },
  {
   "cell_type": "code",
   "execution_count": 9,
   "metadata": {
    "id": "u3MJeA6eF7sP"
   },
   "outputs": [
    {
     "name": "stdout",
     "output_type": "stream",
     "text": [
      "Algorithm 2 (Uniform Cost Search):\n",
      "Total Cost: -13, Path: [((0, 0), 0), ((0, 1), 4), ((1, 1), 3), ((2, 1), 4), ((2, 0), -5), ((3, 1), -4), ((4, 1), -8), ((4, 2), -4), ((4, 3), -5), ((3, 3), -1), ((3, 4), -7), ((4, 5), -14), ((5, 5), -13)], Expanded Nodes: 16, Time: 0.0000000000 seconds\n",
      "\n",
      "Final Results for Algorithm 2:\n",
      "Total Cost: -13, Path: [((0, 0), 0), ((0, 1), 4), ((1, 1), 3), ((2, 1), 4), ((2, 0), -5), ((3, 1), -4), ((4, 1), -8), ((4, 2), -4), ((4, 3), -5), ((3, 3), -1), ((3, 4), -7), ((4, 5), -14), ((5, 5), -13)], Expanded Nodes: 16, Time: 0.0000000000\n"
     ]
    }
   ],
   "source": [
    "#Invoke algorithm 2 (Should Print the solution, path, cost etc., (As mentioned in the problem))\n",
    "cost_2, path_2, path_costs_2, expanded_nodes_2, time_2 = uniform_cost_search(start, goal)\n",
    "print(\"\\nFinal Results for Algorithm 2:\")\n",
    "print(f\"Total Cost: {cost_2}, Path: {list(zip(path_2, path_costs_2))}, Expanded Nodes: {expanded_nodes_2}, Time: {time_2:.10f}\")\n"
   ]
  },
  {
   "cell_type": "markdown",
   "metadata": {
    "id": "TOU3Rem6F7sQ"
   },
   "source": [
    "### 5.\tComparative Analysis"
   ]
  },
  {
   "cell_type": "code",
   "execution_count": 10,
   "metadata": {
    "id": "HG6fWwiIF7sQ"
   },
   "outputs": [
    {
     "name": "stdout",
     "output_type": "stream",
     "text": [
      "\n",
      "Algorithm 1 (RBFS) Time & Space Complexity:\n",
      "Time Complexity: 0.0000000000 seconds\n",
      "Space Complexity (Nodes Expanded): 29\n"
     ]
    }
   ],
   "source": [
    "# Code Block : Print the Time & Space complexity of algorithm 1\n",
    "print(\"\\nAlgorithm 1 (RBFS) Time & Space Complexity:\")\n",
    "print(f\"Time Complexity: {time_1:.10f} seconds\")\n",
    "print(f\"Space Complexity (Nodes Expanded): {expanded_nodes_1}\")\n"
   ]
  },
  {
   "cell_type": "code",
   "execution_count": 11,
   "metadata": {
    "id": "xMButLKCF7sQ"
   },
   "outputs": [
    {
     "name": "stdout",
     "output_type": "stream",
     "text": [
      "\n",
      "Algorithm 2 (UCS) Time & Space Complexity:\n",
      "Time Complexity: 0.0000000000 seconds\n",
      "Space Complexity (Nodes Expanded): 16\n"
     ]
    }
   ],
   "source": [
    "# Code Block : Print the Time & Space complexity of algorithm 2\n",
    "print(\"\\nAlgorithm 2 (UCS) Time & Space Complexity:\")\n",
    "print(f\"Time Complexity: {time_2:.10f} seconds\")\n",
    "print(f\"Space Complexity (Nodes Expanded): {expanded_nodes_2}\")\n"
   ]
  },
  {
   "cell_type": "markdown",
   "metadata": {
    "id": "y2nXwAlsF7sQ"
   },
   "source": [
    "### 6.\tProvide your comparitive analysis or findings in no more than 3 lines in below section"
   ]
  },
  {
   "cell_type": "markdown",
   "metadata": {
    "id": "si483-zoF7sQ"
   },
   "source": [
    "Comparison :\n",
    "    In the context of the grid-based pathfinding problem, the Recursive Best First Search (RBFS) algorithm efficiently manages memory by using recursion, allowing it to handle smaller grids without significant overhead. \n",
    "    However, in more complex city layouts, RBFS may expand a higher number of nodes compared to Uniform Cost Search (UCS), potentially resulting in longer search times due to its heuristic reliance. \n",
    "    In contrast, UCS consistently provides the shortest path by evaluating all possible paths based on cumulative costs, but it incurs higher memory usage to store all expanded nodes in its priority queue, particularly in densely populated grids with numerous buildings and roadblocks.\n",
    "\n",
    "TIME AND SPACE COMPLEXITY FOR ONE OF THE EXECUTIONS IS GIVEN BELOW: THESE TIMIGS ARE GETTING CHANGED FOR THE SUBSEQUENT EXECUTIONS.\n",
    " \n",
    "Algorithm 1 (RBFS) Time & Space Complexity:\n",
    "Time Complexity: 0.0010004044 seconds\n",
    "Space Complexity (Nodes Expanded): 29\n",
    "\n",
    "Algorithm 2 (UCS) Time & Space Complexity:\n",
    "Time Complexity: 0.0009989738 seconds\n",
    "Space Complexity (Nodes Expanded): 16\n",
    "( Space Complexity includes the priority queue also) \n",
    "\n",
    " "
   ]
  },
  {
   "cell_type": "code",
   "execution_count": null,
   "metadata": {},
   "outputs": [],
   "source": []
  }
 ],
 "metadata": {
  "celltoolbar": "Edit Metadata",
  "colab": {
   "provenance": []
  },
  "kernelspec": {
   "display_name": "Python 3 (ipykernel)",
   "language": "python",
   "name": "python3"
  },
  "language_info": {
   "codemirror_mode": {
    "name": "ipython",
    "version": 3
   },
   "file_extension": ".py",
   "mimetype": "text/x-python",
   "name": "python",
   "nbconvert_exporter": "python",
   "pygments_lexer": "ipython3",
   "version": "3.11.7"
  }
 },
 "nbformat": 4,
 "nbformat_minor": 4
}
